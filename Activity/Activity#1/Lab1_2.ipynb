{
  "nbformat": 4,
  "nbformat_minor": 0,
  "metadata": {
    "colab": {
      "name": "Lab1_2.ipynb",
      "provenance": []
    },
    "kernelspec": {
      "name": "python3",
      "display_name": "Python 3"
    },
    "language_info": {
      "name": "python"
    }
  },
  "cells": [
    {
      "cell_type": "code",
      "execution_count": 1,
      "metadata": {
        "id": "f7sS3KVOqmJf"
      },
      "outputs": [],
      "source": [
        "import cv2\n",
        "import numpy as np"
      ]
    },
    {
      "cell_type": "code",
      "source": [
        "#ITEM 1.2\n",
        "image = cv2.imread(\"/content/image.jpg\")\n",
        "print(\"(Height,Width,Channel) :\",image.shape)\n",
        "reshape_array = np.moveaxis(image, 2 ,0)\n",
        "print(\"(Channel,Height,Width) :\",reshape_array.shape)\n",
        "#(3,895,700)"
      ],
      "metadata": {
        "colab": {
          "base_uri": "https://localhost:8080/"
        },
        "id": "x5Tp8Bl1s62t",
        "outputId": "c4437fc4-1aab-43ac-b166-42f3f2e2b9cc"
      },
      "execution_count": 14,
      "outputs": [
        {
          "output_type": "stream",
          "name": "stdout",
          "text": [
            "(Height,Width,Channel) : (895, 700, 3)\n",
            "(Channel,Height,Width) : (3, 895, 700)\n"
          ]
        }
      ]
    }
  ]
}