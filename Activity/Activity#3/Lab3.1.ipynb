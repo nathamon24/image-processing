{
 "cells": [
  {
   "cell_type": "code",
   "execution_count": 45,
   "metadata": {},
   "outputs": [],
   "source": [
    "import cv2\n",
    "import numpy as np"
   ]
  },
  {
   "cell_type": "code",
   "execution_count": 46,
   "metadata": {},
   "outputs": [
    {
     "name": "stdout",
     "output_type": "stream",
     "text": [
      "step = 0.02\n"
     ]
    }
   ],
   "source": [
    "image = cv2.imread(\"image5.jpg\")\n",
    "gamma = [0.1,3]\n",
    "nFrame = 300\n",
    "print(\"step =\",gamma[1]/(nFrame/2))\n",
    "a = 1\n",
    "b = 0\n",
    "img_array = []"
   ]
  },
  {
   "cell_type": "code",
   "execution_count": 47,
   "metadata": {},
   "outputs": [],
   "source": [
    "for g in np.arange(gamma[0],gamma[1],gamma[1]/(nFrame/2)):\n",
    "    im_gamma = np.uint8((a*( (image/255) ** g )+ b )* 255 )\n",
    "    # cv2.imwrite(\"export.jpg\", im_gamma)\n",
    "    img_array.append(im_gamma)"
   ]
  },
  {
   "cell_type": "code",
   "execution_count": 48,
   "metadata": {},
   "outputs": [],
   "source": [
    "for g in np.arange(gamma[1],gamma[0],-(gamma[1]/(nFrame/2))):\n",
    "    im_gamma = np.uint8((a*( (image/255) ** g )+ b )* 255 )\n",
    "    # cv2.imwrite(\"export.jpg\", im_gamma)\n",
    "    img_array.append(im_gamma)"
   ]
  },
  {
   "cell_type": "code",
   "execution_count": 49,
   "metadata": {},
   "outputs": [],
   "source": [
    "fps = 30\n",
    "fourcc = cv2.VideoWriter_fourcc(*'mp4v')\n",
    "writer = cv2.VideoWriter(\"result-3.1.mp4\", fourcc, fps, image.shape[:2][::-1])\n",
    "for frame in range(len(img_array)):\n",
    "  writer.write(img_array[frame])\n",
    "writer.release()"
   ]
  }
 ],
 "metadata": {
  "interpreter": {
   "hash": "1f8d80d535cfd832283e4e3a1095d2ce45fe6627336684f2622a1965babb2f1c"
  },
  "kernelspec": {
   "display_name": "Python 3.9.10 64-bit (windows store)",
   "language": "python",
   "name": "python3"
  },
  "language_info": {
   "codemirror_mode": {
    "name": "ipython",
    "version": 3
   },
   "file_extension": ".py",
   "mimetype": "text/x-python",
   "name": "python",
   "nbconvert_exporter": "python",
   "pygments_lexer": "ipython3",
   "version": "3.9.10"
  },
  "orig_nbformat": 4
 },
 "nbformat": 4,
 "nbformat_minor": 2
}
